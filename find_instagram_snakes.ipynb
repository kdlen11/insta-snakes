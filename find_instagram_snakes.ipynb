{
 "cells": [
  {
   "cell_type": "markdown",
   "id": "f685d68c-5884-4fbe-bb10-5f047b5fb4d4",
   "metadata": {},
   "source": [
    "### FUNCTION TO FIND INSTAGRAM SNAKES"
   ]
  },
  {
   "cell_type": "markdown",
   "id": "95f08d57-c573-49e3-bd2c-f7a90840e232",
   "metadata": {},
   "source": [
    "Returns a list of 'snakes', that is, people who you follow on instagram who don't follow you back.\n",
    "\n",
    "follower_file_name and following_file_name should be json files of people you follow and people who follow you,\n",
    "of filetype .json, downloaded from instagram. \n",
    "\n",
    "Instructions to download this data can be found here: \n",
    "https://help.instagram.com/181231772500920"
   ]
  },
  {
   "cell_type": "code",
   "execution_count": null,
   "id": "b751120d-5e09-4b1c-bdee-d7f29cf047a5",
   "metadata": {},
   "outputs": [],
   "source": [
    "import pandas as pd\n",
    "def get_snakes(follower_file_name:str, following_file_name:str) -> list:\n",
    "    \"\"\"\n",
    "    Returns a list of 'snakes', that is, people who you follow on instagram who don't follow you back.\n",
    "    follower_file_name and following_file_name should be json files of people you follow and people who follow you,\n",
    "    of filetype .json, downloaded from instagram. Instructions to download this data can be found here: \n",
    "    https://help.instagram.com/181231772500920\n",
    "    \"\"\"\n",
    "    data = pd.read_json(follower_file_name)\n",
    "    follower_info = data['string_list_data'].to_frame()\n",
    "    follower_info['string_list_data'] = follower_info['string_list_data'].apply(lambda x: x[0])\n",
    "    \n",
    "    followers = []\n",
    "    for item in range(len(follower_info)):\n",
    "        user_info_dict = follower_info['string_list_data'].iloc[item]\n",
    "        username = user_info_dict.get('value')\n",
    "        followers.append(username)\n",
    "        \n",
    "    following = []\n",
    "    data2 = pd.read_json(following_file_name)\n",
    "    for item in range(len(data2)):\n",
    "        entire_dict = data2['relationships_following'].iloc[item]\n",
    "        string_list_dict = entire_dict.get('string_list_data')[0]\n",
    "        user = string_list_dict.get('value')\n",
    "        following.append(user)\n",
    "        \n",
    "    snakes = []\n",
    "    for item in following:\n",
    "        if item not in followers:\n",
    "            snakes.append(item)\n",
    "\n",
    "    return snakes"
   ]
  },
  {
   "cell_type": "code",
   "execution_count": null,
   "id": "238254e6-25f4-4199-8744-5ad3f96d7850",
   "metadata": {},
   "outputs": [],
   "source": [
    "#run this cell next, replace the strings with your own file names\n",
    "get_snakes('followers.json', 'my_following.json')"
   ]
  }
 ],
 "metadata": {
  "kernelspec": {
   "display_name": "Python 3 (ipykernel)",
   "language": "python",
   "name": "python3"
  },
  "language_info": {
   "codemirror_mode": {
    "name": "ipython",
    "version": 3
   },
   "file_extension": ".py",
   "mimetype": "text/x-python",
   "name": "python",
   "nbconvert_exporter": "python",
   "pygments_lexer": "ipython3",
   "version": "3.11.6"
  }
 },
 "nbformat": 4,
 "nbformat_minor": 5
}
